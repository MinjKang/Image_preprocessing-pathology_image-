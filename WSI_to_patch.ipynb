{
 "cells": [
  {
   "cell_type": "code",
   "execution_count": null,
   "metadata": {},
   "outputs": [],
   "source": [
    "import os\n",
    "import glob\n",
    "import json\n",
    "import numpy as np\n",
    "import pandas as pd\n",
    "from glob import glob\n",
    "import matplotlib.pyplot as plt\n",
    "from tqdm.notebook import tqdm\n",
    "from PIL import Image\n",
    "from pathlib import Path\n",
    "import cv2"
   ]
  },
  {
   "cell_type": "code",
   "execution_count": null,
   "metadata": {},
   "outputs": [],
   "source": [
    "def read_img(img_path):\n",
    "    #img_path_recipient = img_folder + \"/{}.jpg\"\n",
    "    img = cv2.imread(img_path)\n",
    "    print(\"wsi shape:\", img.shape)\n",
    "    return img"
   ]
  },
  {
   "cell_type": "code",
   "execution_count": null,
   "metadata": {},
   "outputs": [
    {
     "ename": "AttributeError",
     "evalue": "'DataFrame' object has no attribute 'append'",
     "output_type": "error",
     "traceback": [
      "\u001b[1;31m---------------------------------------------------------------------------\u001b[0m\n",
      "\u001b[1;31mAttributeError\u001b[0m                            Traceback (most recent call last)\n",
      "Cell \u001b[1;32mIn[8], line 29\u001b[0m\n",
      "\u001b[0;32m     26\u001b[0m     r_new_list\u001b[38;5;241m.\u001b[39mappend(r_new)\n",
      "\u001b[0;32m     28\u001b[0m     r_scaled_new \u001b[38;5;241m=\u001b[39m r_scaled_new\u001b[38;5;241m.\u001b[39mflatten() \n",
      "\u001b[1;32m---> 29\u001b[0m     r_new_df \u001b[38;5;241m=\u001b[39m \u001b[43mr_new_df\u001b[49m\u001b[38;5;241;43m.\u001b[39;49m\u001b[43mappend\u001b[49m({\u001b[38;5;124m'\u001b[39m\u001b[38;5;124mred\u001b[39m\u001b[38;5;124m'\u001b[39m: r_scaled_new, \u001b[38;5;124m'\u001b[39m\u001b[38;5;124mdomain\u001b[39m\u001b[38;5;124m'\u001b[39m: \u001b[38;5;241m1\u001b[39m}, ignore_index\u001b[38;5;241m=\u001b[39m\u001b[38;5;28;01mTrue\u001b[39;00m)\n",
      "\u001b[0;32m     31\u001b[0m \u001b[38;5;28;01mfor\u001b[39;00m i \u001b[38;5;129;01min\u001b[39;00m \u001b[38;5;28mrange\u001b[39m(\u001b[38;5;28mlen\u001b[39m(images_old)):\n",
      "\u001b[0;32m     32\u001b[0m     b_old \u001b[38;5;241m=\u001b[39m images_old[i][:, :, \u001b[38;5;241m0\u001b[39m]\n",
      "\n",
      "File \u001b[1;32mc:\\Users\\MYCOM\\anaconda3\\envs\\path_proprocessing\\lib\\site-packages\\pandas\\core\\generic.py:5989\u001b[0m, in \u001b[0;36mNDFrame.__getattr__\u001b[1;34m(self, name)\u001b[0m\n",
      "\u001b[0;32m   5982\u001b[0m \u001b[38;5;28;01mif\u001b[39;00m (\n",
      "\u001b[0;32m   5983\u001b[0m     name \u001b[38;5;129;01mnot\u001b[39;00m \u001b[38;5;129;01min\u001b[39;00m \u001b[38;5;28mself\u001b[39m\u001b[38;5;241m.\u001b[39m_internal_names_set\n",
      "\u001b[0;32m   5984\u001b[0m     \u001b[38;5;129;01mand\u001b[39;00m name \u001b[38;5;129;01mnot\u001b[39;00m \u001b[38;5;129;01min\u001b[39;00m \u001b[38;5;28mself\u001b[39m\u001b[38;5;241m.\u001b[39m_metadata\n",
      "\u001b[0;32m   5985\u001b[0m     \u001b[38;5;129;01mand\u001b[39;00m name \u001b[38;5;129;01mnot\u001b[39;00m \u001b[38;5;129;01min\u001b[39;00m \u001b[38;5;28mself\u001b[39m\u001b[38;5;241m.\u001b[39m_accessors\n",
      "\u001b[0;32m   5986\u001b[0m     \u001b[38;5;129;01mand\u001b[39;00m \u001b[38;5;28mself\u001b[39m\u001b[38;5;241m.\u001b[39m_info_axis\u001b[38;5;241m.\u001b[39m_can_hold_identifiers_and_holds_name(name)\n",
      "\u001b[0;32m   5987\u001b[0m ):\n",
      "\u001b[0;32m   5988\u001b[0m     \u001b[38;5;28;01mreturn\u001b[39;00m \u001b[38;5;28mself\u001b[39m[name]\n",
      "\u001b[1;32m-> 5989\u001b[0m \u001b[38;5;28;01mreturn\u001b[39;00m \u001b[38;5;28;43mobject\u001b[39;49m\u001b[38;5;241;43m.\u001b[39;49m\u001b[38;5;21;43m__getattribute__\u001b[39;49m\u001b[43m(\u001b[49m\u001b[38;5;28;43mself\u001b[39;49m\u001b[43m,\u001b[49m\u001b[43m \u001b[49m\u001b[43mname\u001b[49m\u001b[43m)\u001b[49m\n",
      "\n",
      "\u001b[1;31mAttributeError\u001b[0m: 'DataFrame' object has no attribute 'append'"
     ]
    }
   ],
   "source": [
    "def extract_patches(img, patch_size):\n",
    "    # numpy 배열로 변환\n",
    "    img_array = np.array(img)\n",
    "    height, width = img_array.shape[0], img_array.shape[1]\n",
    "    \n",
    "    # 이미지의 크기가 patch_size로 나누어 떨어지지 않을 경우, patch_size로 나누어 떨어지도록 크기 조정\n",
    "    height = (height // patch_size) * patch_size\n",
    "    width = (width // patch_size) * patch_size\n",
    "\n",
    "    # 이미지 크기 조정\n",
    "    img_array = img_array[:height, :width, :]\n",
    "    \n",
    "    patches_img = []\n",
    "    for i in range(0, height, patch_size):\n",
    "        for j in range(0, width, patch_size):\n",
    "            patch_img = img_array[i:i+patch_size, j:j+patch_size, :]\n",
    "            patches_img.append(patch_img)\n",
    "    \n",
    "    patches_img = np.array(patches_img)\n",
    "    print(\"patch image shape:\", patches_img.shape)\n",
    "    return patches_img"
   ]
  },
  {
   "cell_type": "code",
   "execution_count": null,
   "metadata": {},
   "outputs": [],
   "source": [
    "patch_size = 256"
   ]
  },
  {
   "cell_type": "code",
   "execution_count": null,
   "metadata": {},
   "outputs": [],
   "source": [
    "import io\n",
    "from PIL import Image, ImageCms\n",
    "\n",
    "patch_save_path = glob(\"D:\\\\Stain_normalization\\\\0402\\\\final\\\\Domain 2\\\\\")\n",
    "\n",
    "wsi_img_path = 'D:\\\\Stain_normalization\\\\0402\\\\final\\\\gt450_resize.tif'\n",
    "img = Image.open(wsi_img_path)\n",
    "\n",
    "# 이미지에 내장된 색상 프로파일 추출\n",
    "if \"icc_profile\" in img.info:\n",
    "    icc_profile = img.info[\"icc_profile\"]\n",
    "    src_profile = ImageCms.ImageCmsProfile(io.BytesIO(icc_profile))\n",
    "    dst_profile = ImageCms.createProfile(\"sRGB\")\n",
    "    img = ImageCms.profileToProfile(img, src_profile, dst_profile)\n",
    "\n",
    "# 패치 크기 설정\n",
    "patch_size = 256\n",
    "\n",
    "# 패치 추출\n",
    "patches_img = extract_patches(img, patch_size)\n",
    "print(len(patches_img))\n",
    "\n",
    "# 패치 이미지 저장\n",
    "for j in range(len(patches_img)):\n",
    "    print(j, \"번째 patch image\", str(j))\n",
    "    # 패치 이미지를 BGR 형식으로 변환하여 저장\n",
    "    patch_bgr = cv2.cvtColor(patches_img[j], cv2.COLOR_RGB2BGR)\n",
    "    cv2.imwrite(patch_save_path[0] + str(0) + str(j) + '.png', patch_bgr)\n"
   ]
  }
 ],
 "metadata": {
  "kernelspec": {
   "display_name": "path_proprocessing",
   "language": "python",
   "name": "python3"
  },
  "language_info": {
   "name": "python",
   "version": "3.8.17"
  }
 },
 "nbformat": 4,
 "nbformat_minor": 2
}
